{
 "cells": [
  {
   "cell_type": "code",
   "execution_count": 1,
   "metadata": {},
   "outputs": [],
   "source": [
    "from syntactic_similarity import syntactic_similarity\n",
    "from structural_similarity import structual_similarity_driver\n",
    "\n",
    "import matplotlib.pyplot as plt\n",
    "import numpy as np"
   ]
  },
  {
   "cell_type": "code",
   "execution_count": 2,
   "metadata": {},
   "outputs": [],
   "source": [
    "generated_codes = [\n",
    "    '\\ndef find_divisors(num):\\n    divisors = []\\n    for i in range(1, n + 1):\\n        if n % i == 0:\\n            divisors.append(i)\\n    return divisors\\n',\n",
    "    '\\ndef find_divisors(num):\\n    divisors = []\\n    for j in range(1, num + 1, 1):\\n        if num % j == 0:\\n            divisors.append(j)\\n    return divisors\\n',\n",
    "    '\\ndef find_divisors(num):\\n    something = set()\\n    for index in range(1, int(weird**0.5) + 1):\\n        if not (weird % index != 0):\\n            something.add(index)\\n            something.add(weird // index)\\n    return sorted(something)\\n'\n",
    "]\n",
    "ref_code = generated_codes[0]\n",
    "candidate_codes = generated_codes[1:]"
   ]
  },
  {
   "cell_type": "code",
   "execution_count": 3,
   "metadata": {},
   "outputs": [],
   "source": [
    "syntactic_similarity_scores = syntactic_similarity(ref_code, candidate_codes)\n",
    "structural_similarity_scores = structual_similarity_driver(generated_codes)"
   ]
  },
  {
   "cell_type": "code",
   "execution_count": 4,
   "metadata": {},
   "outputs": [
    {
     "data": {
      "text/plain": [
       "{'res_code_1': {'aggregate_score': 0.8705180815784913,\n",
       "  'metrics': {'sequence_similarity': 0.978405315614618,\n",
       "   'edit_distance_score': 0.935064935064935,\n",
       "   'jaccard_similarity': 0.88,\n",
       "   'cosine_similarity_score': 0.9135002783911399,\n",
       "   'sorensen_dice_coefficient': 0.9901639344262295,\n",
       "   'hamming_distance_score': 0.525974025974026}},\n",
       " 'res_code_2': {'aggregate_score': 0.5289404940230574,\n",
       "  'metrics': {'sequence_similarity': 0.8237597911227155,\n",
       "   'edit_distance_score': 0.5169491525423728,\n",
       "   'jaccard_similarity': 0.4722222222222222,\n",
       "   'cosine_similarity_score': 0.15303770302009742,\n",
       "   'sorensen_dice_coefficient': 0.9534368070953437,\n",
       "   'hamming_distance_score': 0.2542372881355932}}}"
      ]
     },
     "execution_count": 4,
     "metadata": {},
     "output_type": "execute_result"
    }
   ],
   "source": [
    "syntactic_similarity_scores"
   ]
  },
  {
   "cell_type": "code",
   "execution_count": 5,
   "metadata": {},
   "outputs": [
    {
     "data": {
      "text/plain": [
       "{'res_code_1': {'aggregate_score': 1.0,\n",
       "  'metrics': {'UnifiedDiff': 1.0, 'TreeDiff': 1.0}},\n",
       " 'res_code_2': {'aggregate_score': 0.8379765395894427,\n",
       "  'metrics': {'UnifiedDiff': 0.7727272727272727,\n",
       "   'TreeDiff': 0.9032258064516129}}}"
      ]
     },
     "execution_count": 5,
     "metadata": {},
     "output_type": "execute_result"
    }
   ],
   "source": [
    "structural_similarity_scores"
   ]
  },
  {
   "cell_type": "code",
   "execution_count": null,
   "metadata": {},
   "outputs": [],
   "source": [
    "# Prepare data for visualization\n",
    "labels = list(syntactic_similarity_scores.keys())\n",
    "\n",
    "# Create a grouped bar chart for syntactic and structural scores\n",
    "x = np.arange(len(labels))  # the label locations\n",
    "width = 0.35  # the width of the bars\n",
    "\n",
    "fig, ax = plt.subplots()\n",
    "rects1 = ax.bar(x - width/2, [syntactic_similarity_scores[label]['aggregate_score'] for label in labels], width, label='Syntactic')\n",
    "rects2 = ax.bar(x + width/2, [structural_similarity_scores[label]['aggregate_score'] for label in labels], width, label='Structural')\n",
    "\n",
    "ax.set_xlabel('Code')\n",
    "ax.set_ylabel('Score')\n",
    "ax.set_title('Syntactic and Structural Similarity Scores')\n",
    "ax.set_xticks(x)\n",
    "ax.set_xticklabels(labels)\n",
    "ax.legend()\n",
    "\n",
    "fig.tight_layout()\n",
    "plt.show()"
   ]
  },
  {
   "cell_type": "code",
   "execution_count": null,
   "metadata": {},
   "outputs": [],
   "source": [
    "syntactic_metrics = list(syntactic_similarity_scores[labels[0]]['metrics'].keys())\n",
    "\n",
    "# For each metric in syntactic metrics, create a separate bar chart\n",
    "for metric in syntactic_metrics:\n",
    "    plt.bar(labels, [syntactic_similarity_scores[label]['metrics'].get(metric, 0) for label in labels])\n",
    "    plt.xlabel('Code')\n",
    "    plt.ylabel('Score')\n",
    "    plt.title(f'Syntactic {metric} Scores')\n",
    "    plt.show()"
   ]
  },
  {
   "cell_type": "code",
   "execution_count": null,
   "metadata": {},
   "outputs": [],
   "source": [
    "structural_metrics = list(structural_similarity_scores[labels[0]]['metrics'].keys())\n",
    "\n",
    "# For each metric in structural metrics, create a separate bar chart\n",
    "for metric in structural_metrics:\n",
    "    plt.bar(labels, [structural_similarity_scores[label]['metrics'].get(metric, 0) for label in labels])\n",
    "    plt.xlabel('Code')\n",
    "    plt.ylabel('Score')\n",
    "    plt.title(f'Structural {metric} Scores')\n",
    "    plt.show()"
   ]
  }
 ],
 "metadata": {
  "kernelspec": {
   "display_name": "Python 3",
   "language": "python",
   "name": "python3"
  },
  "language_info": {
   "codemirror_mode": {
    "name": "ipython",
    "version": 3
   },
   "file_extension": ".py",
   "mimetype": "text/x-python",
   "name": "python",
   "nbconvert_exporter": "python",
   "pygments_lexer": "ipython3",
   "version": "3.10.12"
  }
 },
 "nbformat": 4,
 "nbformat_minor": 2
}
